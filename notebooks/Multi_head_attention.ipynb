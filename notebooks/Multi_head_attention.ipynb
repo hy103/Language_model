{
 "cells": [
  {
   "cell_type": "code",
   "execution_count": 2,
   "metadata": {},
   "outputs": [],
   "source": [
    "import torch.nn as nn\n",
    "import torch\n",
    "\n",
    "\n"
   ]
  },
  {
   "cell_type": "code",
   "execution_count": 77,
   "metadata": {},
   "outputs": [],
   "source": [
    "class Multihead_attention(nn.Module):\n",
    "    def __init__(self, d_in, d_out, context_len, num_heads, dropout, qkv_bias):\n",
    "        super().__init__()\n",
    "\n",
    "        assert (d_out % num_heads == 0), \\\n",
    "\"d_out must be divisible by num_heads\"\n",
    "\n",
    "        self.d_in = d_in\n",
    "        self.d_out = d_out\n",
    "        self.head_dim = d_out//num_heads\n",
    "        self.context_len = context_len\n",
    "        self.dropout = dropout\n",
    "        self.num_heads = num_heads\n",
    "        self.qkv_bias = qkv_bias\n",
    "\n",
    "        self.W_query = nn.Linear(d_in, d_out, bias = qkv_bias)\n",
    "        self.W_keys = nn.Linear(d_in, d_out, bias = qkv_bias)\n",
    "        self.W_values = nn.Linear(d_in, d_out, bias = qkv_bias)\n",
    "\n",
    "        self.out_proj = nn.Linear(d_out, d_out)\n",
    "\n",
    "        self.dropout = nn.Dropout(dropout)\n",
    "\n",
    "        self.register_buffer(\"mask\",\n",
    "                             torch.triu(torch.ones(self.context_len , self.context_len), diagonal= 1))\n",
    "        \n",
    "\n",
    "    def forward(self, x):\n",
    "        Query = self.W_query(x)\n",
    "        keys = self.W_keys(x)\n",
    "        values = self.W_values(x)\n",
    "\n",
    "        num_batches, num_tokens, d_in = x.shape\n",
    "        print(f\"Shape of x: {x.shape}\")\n",
    "\n",
    "        keys = keys.view(num_batches, num_tokens, self.num_heads, self.head_dim)\n",
    "        Query = Query.view(num_batches, num_tokens, self.num_heads, self.head_dim)\n",
    "        values = values.view(num_batches, num_tokens, self.num_heads, self.head_dim)\n",
    "\n",
    "        keys = keys.transpose(1, 2)\n",
    "        Query = Query.transpose(1, 2)\n",
    "        values = values.transpose(1, 2)\n",
    "\n",
    "        print(f\"Shape of keys: {keys.shape}\")\n",
    "        print(f\"Shape of Query: {Query.shape}\")\n",
    "        print(f\"Shape of values: {values.shape}\")\n",
    "\n",
    "        attention_scores = Query @ keys.transpose(2, 3)\n",
    "        print(f\"Shape of attention_scores: {attention_scores.shape}\")\n",
    "\n",
    "        mask_bool = self.mask.bool()[:num_tokens, :num_tokens]\n",
    "        attention_scores.masked_fill_(mask_bool, -torch.inf)\n",
    "\n",
    "        attention_weights = torch.softmax(attention_scores / (keys.shape[-1] ** 0.5), dim=-1)\n",
    "        attention_weights = self.dropout(attention_weights)\n",
    "        print(f\"Shape of attention_weights: {attention_weights.shape}\")\n",
    "\n",
    "        # Correct multiplication and reshaping\n",
    "        context_vec = (attention_weights @ values).transpose(1, 2)\n",
    "        print(f\"Shape of context_vec after attention: {context_vec.shape}\")\n",
    "\n",
    "        # Now, reshape to combine heads and head_dim into d_out\n",
    "        context_vec = context_vec.contiguous().view(num_batches, num_tokens, self.d_out)\n",
    "        print(f\"Shape of context_vec reshaped to: {context_vec.shape}\")\n",
    "\n",
    "        context_vec = self.out_proj(context_vec)\n",
    "        print(f\"Shape of context_vec after projection: {context_vec.shape}\")\n",
    "\n",
    "        return context_vec"
   ]
  },
  {
   "cell_type": "code",
   "execution_count": 78,
   "metadata": {},
   "outputs": [
    {
     "name": "stdout",
     "output_type": "stream",
     "text": [
      "Shape of single inputs is  {torch.Size([6, 3])}\n",
      "Shape of batch is  {torch.Size([2, 6, 3])}\n"
     ]
    }
   ],
   "source": [
    "import torch\n",
    "inputs = torch.tensor(\n",
    "[[0.43, 0.15, 0.89], # Your (x^1)\n",
    "[0.55, 0.87, 0.66], # journey (x^2)\n",
    "[0.57, 0.85, 0.64], # starts (x^3)\n",
    "[0.22, 0.58, 0.33], # with (x^4)\n",
    "[0.77, 0.25, 0.10], # one (x^5)\n",
    "[0.05, 0.80, 0.55]] # step (x^6)\n",
    ")\n",
    "\n",
    "print(f\"Shape of single inputs is \",{inputs.shape})\n",
    "batch = torch.stack((inputs, inputs))\n",
    "\n",
    "print(f\"Shape of batch is \",{batch.shape})"
   ]
  },
  {
   "cell_type": "code",
   "execution_count": 83,
   "metadata": {},
   "outputs": [
    {
     "name": "stdout",
     "output_type": "stream",
     "text": [
      "Shape of x: torch.Size([2, 6, 3])\n",
      "Shape of keys: torch.Size([2, 2, 6, 2])\n",
      "Shape of Query: torch.Size([2, 2, 6, 2])\n",
      "Shape of values: torch.Size([2, 2, 6, 2])\n",
      "Shape of attention_scores: torch.Size([2, 2, 6, 6])\n",
      "Shape of attention_weights: torch.Size([2, 2, 6, 6])\n",
      "Shape of context_vec after attention: torch.Size([2, 6, 2, 2])\n",
      "Shape of context_vec reshaped to: torch.Size([2, 6, 4])\n",
      "Shape of context_vec after projection: torch.Size([2, 6, 4])\n"
     ]
    }
   ],
   "source": [
    "torch.manual_seed(123)\n",
    "batch_size, context_len, d_in = batch.shape\n",
    "d_out = 4\n",
    "num_heads = 2\n",
    "dropout = 0.0\n",
    "ma = Multihead_attention(d_in, d_out, context_len, num_heads, dropout, qkv_bias = False)\n",
    "context_vec = ma(batch)"
   ]
  },
  {
   "cell_type": "code",
   "execution_count": 84,
   "metadata": {},
   "outputs": [
    {
     "data": {
      "text/plain": [
       "tensor([[[ 0.1184,  0.3120, -0.0847, -0.5774],\n",
       "         [ 0.0178,  0.3221, -0.0763, -0.4225],\n",
       "         [-0.0147,  0.3259, -0.0734, -0.3721],\n",
       "         [-0.0116,  0.3138, -0.0708, -0.3624],\n",
       "         [-0.0117,  0.2973, -0.0698, -0.3543],\n",
       "         [-0.0132,  0.2990, -0.0689, -0.3490]],\n",
       "\n",
       "        [[ 0.1184,  0.3120, -0.0847, -0.5774],\n",
       "         [ 0.0178,  0.3221, -0.0763, -0.4225],\n",
       "         [-0.0147,  0.3259, -0.0734, -0.3721],\n",
       "         [-0.0116,  0.3138, -0.0708, -0.3624],\n",
       "         [-0.0117,  0.2973, -0.0698, -0.3543],\n",
       "         [-0.0132,  0.2990, -0.0689, -0.3490]]], grad_fn=<ViewBackward0>)"
      ]
     },
     "execution_count": 84,
     "metadata": {},
     "output_type": "execute_result"
    }
   ],
   "source": [
    "context_vec"
   ]
  },
  {
   "cell_type": "code",
   "execution_count": null,
   "metadata": {},
   "outputs": [],
   "source": []
  },
  {
   "cell_type": "code",
   "execution_count": null,
   "metadata": {},
   "outputs": [],
   "source": []
  },
  {
   "cell_type": "code",
   "execution_count": 82,
   "metadata": {},
   "outputs": [
    {
     "data": {
      "text/plain": [
       "tensor([[[0.4300, 0.1500, 0.8900],\n",
       "         [0.5500, 0.8700, 0.6600],\n",
       "         [0.5700, 0.8500, 0.6400],\n",
       "         [0.2200, 0.5800, 0.3300],\n",
       "         [0.7700, 0.2500, 0.1000],\n",
       "         [0.0500, 0.8000, 0.5500]],\n",
       "\n",
       "        [[0.4300, 0.1500, 0.8900],\n",
       "         [0.5500, 0.8700, 0.6600],\n",
       "         [0.5700, 0.8500, 0.6400],\n",
       "         [0.2200, 0.5800, 0.3300],\n",
       "         [0.7700, 0.2500, 0.1000],\n",
       "         [0.0500, 0.8000, 0.5500]]])"
      ]
     },
     "execution_count": 82,
     "metadata": {},
     "output_type": "execute_result"
    }
   ],
   "source": [
    "batch"
   ]
  },
  {
   "cell_type": "code",
   "execution_count": null,
   "metadata": {},
   "outputs": [],
   "source": [
    "W_q = "
   ]
  },
  {
   "cell_type": "code",
   "execution_count": null,
   "metadata": {},
   "outputs": [],
   "source": []
  }
 ],
 "metadata": {
  "kernelspec": {
   "display_name": "Python 3.10 (tensorflow)",
   "language": "python",
   "name": "tensorflow"
  },
  "language_info": {
   "codemirror_mode": {
    "name": "ipython",
    "version": 3
   },
   "file_extension": ".py",
   "mimetype": "text/x-python",
   "name": "python",
   "nbconvert_exporter": "python",
   "pygments_lexer": "ipython3",
   "version": "3.9.6"
  },
  "orig_nbformat": 4
 },
 "nbformat": 4,
 "nbformat_minor": 2
}
