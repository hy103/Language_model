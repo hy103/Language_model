{
 "cells": [
  {
   "cell_type": "code",
   "execution_count": 1,
   "metadata": {},
   "outputs": [],
   "source": [
    "import torch "
   ]
  },
  {
   "cell_type": "code",
   "execution_count": 10,
   "metadata": {},
   "outputs": [],
   "source": [
    "inputs = torch.tensor([[0.43, 0.15, 0.89],\n",
    "                      [0.55, 0.87, 0.66],\n",
    "                      [0.57, 0.85, 0.64],\n",
    "                      [0.22, 0.58, 0.33],\n",
    "                      [0.77, 0.25, 0.10],\n",
    "                      [0.05, 0.80, 0.55]\n",
    "\n",
    "])"
   ]
  },
  {
   "cell_type": "code",
   "execution_count": 15,
   "metadata": {},
   "outputs": [
    {
     "name": "stdout",
     "output_type": "stream",
     "text": [
      "tensor(0.9995)\n",
      "tensor(0.9544)\n",
      "tensor(0.9422)\n",
      "tensor(0.4753)\n",
      "tensor(0.4576)\n",
      "tensor(0.6310)\n",
      "tensor(0.9544)\n",
      "tensor(1.4950)\n",
      "tensor(1.4754)\n",
      "tensor(0.8434)\n",
      "tensor(0.7070)\n",
      "tensor(1.0865)\n",
      "tensor(0.9422)\n",
      "tensor(1.4754)\n",
      "tensor(1.4570)\n",
      "tensor(0.8296)\n",
      "tensor(0.7154)\n",
      "tensor(1.0605)\n",
      "tensor(0.4753)\n",
      "tensor(0.8434)\n",
      "tensor(0.8296)\n",
      "tensor(0.4937)\n",
      "tensor(0.3474)\n",
      "tensor(0.6565)\n",
      "tensor(0.4576)\n",
      "tensor(0.7070)\n",
      "tensor(0.7154)\n",
      "tensor(0.3474)\n",
      "tensor(0.6654)\n",
      "tensor(0.2935)\n",
      "tensor(0.6310)\n",
      "tensor(1.0865)\n",
      "tensor(1.0605)\n",
      "tensor(0.6565)\n",
      "tensor(0.2935)\n",
      "tensor(0.9450)\n"
     ]
    }
   ],
   "source": [
    "dot_product_array = torch.zeros(6,6)\n",
    "for i in range(len(inputs)):\n",
    "    for j in range(len(inputs)):\n",
    "\n",
    "        print(torch.dot(inputs[i], inputs[j]))\n",
    "        dot_product_array[i][j] = torch.dot(inputs[i], inputs[j])"
   ]
  },
  {
   "cell_type": "code",
   "execution_count": 16,
   "metadata": {},
   "outputs": [
    {
     "data": {
      "text/plain": [
       "tensor([[0.9995, 0.9544, 0.9422, 0.4753, 0.4576, 0.6310],\n",
       "        [0.9544, 1.4950, 1.4754, 0.8434, 0.7070, 1.0865],\n",
       "        [0.9422, 1.4754, 1.4570, 0.8296, 0.7154, 1.0605],\n",
       "        [0.4753, 0.8434, 0.8296, 0.4937, 0.3474, 0.6565],\n",
       "        [0.4576, 0.7070, 0.7154, 0.3474, 0.6654, 0.2935],\n",
       "        [0.6310, 1.0865, 1.0605, 0.6565, 0.2935, 0.9450]])"
      ]
     },
     "execution_count": 16,
     "metadata": {},
     "output_type": "execute_result"
    }
   ],
   "source": [
    "dot_product_array"
   ]
  },
  {
   "cell_type": "code",
   "execution_count": 20,
   "metadata": {},
   "outputs": [],
   "source": [
    "dot_product_array\n",
    "for i, row in enumerate(dot_product_array):\n",
    "    dot_product_array[i] = torch.softmax(dot_product_array[i], dim =0)"
   ]
  },
  {
   "cell_type": "code",
   "execution_count": 21,
   "metadata": {},
   "outputs": [
    {
     "data": {
      "text/plain": [
       "tensor([[0.2098, 0.2006, 0.1981, 0.1242, 0.1220, 0.1452],\n",
       "        [0.1385, 0.2379, 0.2333, 0.1240, 0.1082, 0.1581],\n",
       "        [0.1390, 0.2369, 0.2326, 0.1242, 0.1108, 0.1565],\n",
       "        [0.1435, 0.2074, 0.2046, 0.1462, 0.1263, 0.1720],\n",
       "        [0.1526, 0.1958, 0.1975, 0.1367, 0.1879, 0.1295],\n",
       "        [0.1385, 0.2184, 0.2128, 0.1420, 0.0988, 0.1896]])"
      ]
     },
     "execution_count": 21,
     "metadata": {},
     "output_type": "execute_result"
    }
   ],
   "source": [
    "dot_product_array"
   ]
  },
  {
   "cell_type": "code",
   "execution_count": 29,
   "metadata": {},
   "outputs": [
    {
     "data": {
      "text/plain": [
       "tensor([[0.4421, 0.5931, 0.5790],\n",
       "        [0.4419, 0.6515, 0.5683],\n",
       "        [0.4431, 0.6496, 0.5671],\n",
       "        [0.4304, 0.6298, 0.5510],\n",
       "        [0.4671, 0.5910, 0.5266],\n",
       "        [0.4177, 0.6503, 0.5645]])"
      ]
     },
     "execution_count": 29,
     "metadata": {},
     "output_type": "execute_result"
    }
   ],
   "source": [
    "dot_product_array @ inputs"
   ]
  },
  {
   "cell_type": "code",
   "execution_count": 30,
   "metadata": {},
   "outputs": [
    {
     "name": "stdout",
     "output_type": "stream",
     "text": [
      "tensor([])\n",
      "tensor([0.4421])\n",
      "tensor([0.4421, 0.5931])\n",
      "tensor([0.4421, 0.5931, 0.5790])\n",
      "tensor([0.4421, 0.5931, 0.5790])\n",
      "tensor([0.4421, 0.5931, 0.5790])\n",
      "tensor([])\n",
      "tensor([0.4419])\n",
      "tensor([0.4419, 0.6515])\n",
      "tensor([0.4419, 0.6515, 0.5683])\n",
      "tensor([0.4419, 0.6515, 0.5683])\n",
      "tensor([0.4419, 0.6515, 0.5683])\n",
      "tensor([])\n",
      "tensor([0.4431])\n",
      "tensor([0.4431, 0.6496])\n",
      "tensor([0.4431, 0.6496, 0.5671])\n",
      "tensor([0.4431, 0.6496, 0.5671])\n",
      "tensor([0.4431, 0.6496, 0.5671])\n",
      "tensor([])\n",
      "tensor([0.4304])\n",
      "tensor([0.4304, 0.6298])\n",
      "tensor([0.4304, 0.6298, 0.5510])\n",
      "tensor([0.4304, 0.6298, 0.5510])\n",
      "tensor([0.4304, 0.6298, 0.5510])\n",
      "tensor([])\n",
      "tensor([0.4671])\n",
      "tensor([0.4671, 0.5910])\n",
      "tensor([0.4671, 0.5910, 0.5266])\n",
      "tensor([0.4671, 0.5910, 0.5266])\n",
      "tensor([0.4671, 0.5910, 0.5266])\n",
      "tensor([])\n",
      "tensor([0.4177])\n",
      "tensor([0.4177, 0.6503])\n",
      "tensor([0.4177, 0.6503, 0.5645])\n",
      "tensor([0.4177, 0.6503, 0.5645])\n",
      "tensor([0.4177, 0.6503, 0.5645])\n"
     ]
    }
   ],
   "source": [
    "for i in range(len(inputs)):\n",
    "    for j in range(len(inputs)):\n",
    "        print(dot_product_array[i]@inputs[:, :j])"
   ]
  },
  {
   "cell_type": "code",
   "execution_count": null,
   "metadata": {},
   "outputs": [],
   "source": []
  },
  {
   "cell_type": "code",
   "execution_count": null,
   "metadata": {},
   "outputs": [],
   "source": []
  },
  {
   "cell_type": "code",
   "execution_count": null,
   "metadata": {},
   "outputs": [],
   "source": []
  },
  {
   "cell_type": "code",
   "execution_count": 43,
   "metadata": {},
   "outputs": [],
   "source": [
    "inputs = torch.tensor([\n",
    "    [0.2, 0.1, 0.3],  # I\n",
    "    [0.7, 0.3, 0.5],  # bank (verb)\n",
    "    [0.1, 0.2, 0.2],  # the\n",
    "    [0.8, 0.4, 0.6],  # firewood\n",
    "    [0.3, 0.4, 0.3],  # by\n",
    "    [0.1, 0.2, 0.2],  # the\n",
    "    [0.6, 0.5, 0.7],  # river\n",
    "    [0.7, 0.3, 0.5],  # bank (noun)\n",
    "])"
   ]
  },
  {
   "cell_type": "code",
   "execution_count": 44,
   "metadata": {},
   "outputs": [
    {
     "name": "stdout",
     "output_type": "stream",
     "text": [
      "tensor(0.1400)\n",
      "tensor(0.3200)\n",
      "tensor(0.1000)\n",
      "tensor(0.3800)\n",
      "tensor(0.1900)\n",
      "tensor(0.1000)\n",
      "tensor(0.3800)\n",
      "tensor(0.3200)\n",
      "tensor(0.3200)\n",
      "tensor(0.8300)\n",
      "tensor(0.2300)\n",
      "tensor(0.9800)\n",
      "tensor(0.4800)\n",
      "tensor(0.2300)\n",
      "tensor(0.9200)\n",
      "tensor(0.8300)\n",
      "tensor(0.1000)\n",
      "tensor(0.2300)\n",
      "tensor(0.0900)\n",
      "tensor(0.2800)\n",
      "tensor(0.1700)\n",
      "tensor(0.0900)\n",
      "tensor(0.3000)\n",
      "tensor(0.2300)\n",
      "tensor(0.3800)\n",
      "tensor(0.9800)\n",
      "tensor(0.2800)\n",
      "tensor(1.1600)\n",
      "tensor(0.5800)\n",
      "tensor(0.2800)\n",
      "tensor(1.1000)\n",
      "tensor(0.9800)\n",
      "tensor(0.1900)\n",
      "tensor(0.4800)\n",
      "tensor(0.1700)\n",
      "tensor(0.5800)\n",
      "tensor(0.3400)\n",
      "tensor(0.1700)\n",
      "tensor(0.5900)\n",
      "tensor(0.4800)\n",
      "tensor(0.1000)\n",
      "tensor(0.2300)\n",
      "tensor(0.0900)\n",
      "tensor(0.2800)\n",
      "tensor(0.1700)\n",
      "tensor(0.0900)\n",
      "tensor(0.3000)\n",
      "tensor(0.2300)\n",
      "tensor(0.3800)\n",
      "tensor(0.9200)\n",
      "tensor(0.3000)\n",
      "tensor(1.1000)\n",
      "tensor(0.5900)\n",
      "tensor(0.3000)\n",
      "tensor(1.1000)\n",
      "tensor(0.9200)\n",
      "tensor(0.3200)\n",
      "tensor(0.8300)\n",
      "tensor(0.2300)\n",
      "tensor(0.9800)\n",
      "tensor(0.4800)\n",
      "tensor(0.2300)\n",
      "tensor(0.9200)\n",
      "tensor(0.8300)\n"
     ]
    }
   ],
   "source": [
    "dot_product_array = torch.zeros(len(inputs),len(inputs))\n",
    "for i in range(len(inputs)):\n",
    "    for j in range(len(inputs)):\n",
    "\n",
    "        print(torch.dot(inputs[i], inputs[j]))\n",
    "        dot_product_array[i][j] = torch.dot(inputs[i], inputs[j])"
   ]
  },
  {
   "cell_type": "code",
   "execution_count": 45,
   "metadata": {},
   "outputs": [
    {
     "data": {
      "text/plain": [
       "tensor([[0.1400, 0.3200, 0.1000, 0.3800, 0.1900, 0.1000, 0.3800, 0.3200],\n",
       "        [0.3200, 0.8300, 0.2300, 0.9800, 0.4800, 0.2300, 0.9200, 0.8300],\n",
       "        [0.1000, 0.2300, 0.0900, 0.2800, 0.1700, 0.0900, 0.3000, 0.2300],\n",
       "        [0.3800, 0.9800, 0.2800, 1.1600, 0.5800, 0.2800, 1.1000, 0.9800],\n",
       "        [0.1900, 0.4800, 0.1700, 0.5800, 0.3400, 0.1700, 0.5900, 0.4800],\n",
       "        [0.1000, 0.2300, 0.0900, 0.2800, 0.1700, 0.0900, 0.3000, 0.2300],\n",
       "        [0.3800, 0.9200, 0.3000, 1.1000, 0.5900, 0.3000, 1.1000, 0.9200],\n",
       "        [0.3200, 0.8300, 0.2300, 0.9800, 0.4800, 0.2300, 0.9200, 0.8300]])"
      ]
     },
     "execution_count": 45,
     "metadata": {},
     "output_type": "execute_result"
    }
   ],
   "source": [
    "dot_product_array"
   ]
  },
  {
   "cell_type": "code",
   "execution_count": 36,
   "metadata": {},
   "outputs": [],
   "source": [
    "dot_product_array\n",
    "for i, row in enumerate(dot_product_array):\n",
    "    dot_product_array[i] = torch.softmax(dot_product_array[i], dim =0)"
   ]
  },
  {
   "cell_type": "code",
   "execution_count": 37,
   "metadata": {},
   "outputs": [
    {
     "data": {
      "text/plain": [
       "tensor([[0.1122, 0.1344, 0.1078, 0.1427, 0.1180, 0.1078, 0.1427, 0.1344],\n",
       "        [0.0902, 0.1502, 0.0824, 0.1745, 0.1058, 0.0824, 0.1643, 0.1502],\n",
       "        [0.1143, 0.1302, 0.1132, 0.1368, 0.1226, 0.1132, 0.1396, 0.1302],\n",
       "        [0.0840, 0.1530, 0.0760, 0.1831, 0.1025, 0.0760, 0.1725, 0.1530],\n",
       "        [0.1024, 0.1369, 0.1004, 0.1513, 0.1190, 0.1004, 0.1528, 0.1369],\n",
       "        [0.1143, 0.1302, 0.1132, 0.1368, 0.1226, 0.1132, 0.1396, 0.1302],\n",
       "        [0.0861, 0.1477, 0.0794, 0.1768, 0.1062, 0.0794, 0.1768, 0.1477],\n",
       "        [0.0902, 0.1502, 0.0824, 0.1745, 0.1058, 0.0824, 0.1643, 0.1502]])"
      ]
     },
     "execution_count": 37,
     "metadata": {},
     "output_type": "execute_result"
    }
   ],
   "source": [
    "dot_product_array"
   ]
  },
  {
   "cell_type": "code",
   "execution_count": 39,
   "metadata": {},
   "outputs": [
    {
     "data": {
      "application/vnd.jupyter.widget-view+json": {
       "model_id": "19f8f4ab46e6429b8cbae5bca2ca1091",
       "version_major": 2,
       "version_minor": 0
      },
      "text/plain": [
       "tokenizer_config.json:   0%|          | 0.00/300 [00:00<?, ?B/s]"
      ]
     },
     "metadata": {},
     "output_type": "display_data"
    },
    {
     "data": {
      "application/vnd.jupyter.widget-view+json": {
       "model_id": "62ef638a113f430f941584bd260b4b7b",
       "version_major": 2,
       "version_minor": 0
      },
      "text/plain": [
       "config.json:   0%|          | 0.00/1.63k [00:00<?, ?B/s]"
      ]
     },
     "metadata": {},
     "output_type": "display_data"
    },
    {
     "data": {
      "application/vnd.jupyter.widget-view+json": {
       "model_id": "3525812bffdc49108916e6c2d29dbeae",
       "version_major": 2,
       "version_minor": 0
      },
      "text/plain": [
       "vocab.json:   0%|          | 0.00/798k [00:00<?, ?B/s]"
      ]
     },
     "metadata": {},
     "output_type": "display_data"
    },
    {
     "data": {
      "application/vnd.jupyter.widget-view+json": {
       "model_id": "ada97222e20a42f282eab89337682a88",
       "version_major": 2,
       "version_minor": 0
      },
      "text/plain": [
       "merges.txt:   0%|          | 0.00/456k [00:00<?, ?B/s]"
      ]
     },
     "metadata": {},
     "output_type": "display_data"
    },
    {
     "data": {
      "application/vnd.jupyter.widget-view+json": {
       "model_id": "19ed199dc5fa493190edf3ebf9d5498e",
       "version_major": 2,
       "version_minor": 0
      },
      "text/plain": [
       "tokenizer.json:   0%|          | 0.00/1.36M [00:00<?, ?B/s]"
      ]
     },
     "metadata": {},
     "output_type": "display_data"
    },
    {
     "data": {
      "application/vnd.jupyter.widget-view+json": {
       "model_id": "0d7991a4912148a8897a6fa82f05b2e3",
       "version_major": 2,
       "version_minor": 0
      },
      "text/plain": [
       "special_tokens_map.json:   0%|          | 0.00/239 [00:00<?, ?B/s]"
      ]
     },
     "metadata": {},
     "output_type": "display_data"
    }
   ],
   "source": [
    "sentence = \"I bank the firewood by the river bank\"\n",
    "from transformers import AutoTokenizer\n",
    "tokenizer = AutoTokenizer.from_pretrained(\"slauw87/bart_summarisation\")"
   ]
  },
  {
   "cell_type": "code",
   "execution_count": 41,
   "metadata": {},
   "outputs": [],
   "source": [
    "tokens = tokenizer(text = sentence, padding = False, truncation = False,\n",
    "                   max_length = 8, stride =0)"
   ]
  },
  {
   "cell_type": "code",
   "execution_count": 42,
   "metadata": {},
   "outputs": [
    {
     "data": {
      "text/plain": [
       "{'input_ids': [0, 100, 827, 5, 668, 1845, 30, 5, 4908, 827, 2], 'attention_mask': [1, 1, 1, 1, 1, 1, 1, 1, 1, 1, 1]}"
      ]
     },
     "execution_count": 42,
     "metadata": {},
     "output_type": "execute_result"
    }
   ],
   "source": [
    "tokens\n"
   ]
  },
  {
   "cell_type": "code",
   "execution_count": null,
   "metadata": {},
   "outputs": [],
   "source": []
  }
 ],
 "metadata": {
  "kernelspec": {
   "display_name": "Python 3.10 (tensorflow)",
   "language": "python",
   "name": "tensorflow"
  },
  "language_info": {
   "codemirror_mode": {
    "name": "ipython",
    "version": 3
   },
   "file_extension": ".py",
   "mimetype": "text/x-python",
   "name": "python",
   "nbconvert_exporter": "python",
   "pygments_lexer": "ipython3",
   "version": "3.9.6"
  },
  "orig_nbformat": 4
 },
 "nbformat": 4,
 "nbformat_minor": 2
}
